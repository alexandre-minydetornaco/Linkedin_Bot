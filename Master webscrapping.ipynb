{
 "cells": [
  {
   "cell_type": "code",
   "execution_count": 8,
   "metadata": {},
   "outputs": [],
   "source": [
    "import requests\n",
    "import urllib.request\n",
    "import time\n",
    "from bs4 import BeautifulSoup\n",
    "import re\n",
    "import subprocess\n",
    "import time\n",
    "\n",
    "import numpy as np\n",
    "from selenium import webdriver\n",
    "from selenium.webdriver.common.keys import Keys\n",
    "from selenium.webdriver.support.ui import WebDriverWait\n",
    "\n",
    "from webdriver_manager.chrome import ChromeDriverManager\n",
    "from bs4 import BeautifulSoup\n",
    "import requests\n",
    "from xlwt import Workbook "
   ]
  },
  {
   "cell_type": "code",
   "execution_count": 22,
   "metadata": {},
   "outputs": [],
   "source": [
    "url = \"https://www.welcometothejungle.com/fr/jobs?page=1&configure%5Bfilters%5D=website.reference%3Awttj_fr&configure%5BhitsPerPage%5D=30&aroundQuery=France&refinementList%5Boffice.country_code%5D%5B%5D=FR&refinementList%5Bcontract_type_names.fr%5D%5B%5D=CDI&refinementList%5Bcontract_type_names.fr%5D%5B%5D=Stage&query=%22data%20analyst%22&range%5Bexperience_level_minimum%5D%5Bmin%5D=0&range%5Bexperience_level_minimum%5D%5Bmax%5D=1\"\n",
    "url_2 = 'https://www.welcometothejungle.com/fr/companies/kapten/jobs/data-analyst-h-f-cdi-paris_levallois-perret_KAPTE_8m2plWg'\n",
    "base_search_URL = 'https://www.welcometothejungle.com/fr/jobs?query=%22Data%20Analyst%22'\n",
    "class WTTScrapper():\n",
    "\n",
    "    def __init__(self):\n",
    "        '''Init bot'''\n",
    "        self.driver = webdriver.Chrome(ChromeDriverManager().install())\n",
    "        self.driver.wait = WebDriverWait(self.driver, 1)\n",
    "\n",
    "    def MainPage(self):\n",
    "        '''Go the the first page'''\n",
    "        self.driver.get(url)\n",
    "        \n",
    "    def scroll(self,i):\n",
    "        scroll_delta = int(400)\n",
    "        scroll_delta += 100*i\n",
    "        self.driver.execute_script(\"window.scrollBy(0, \"+str(scroll_delta) + \")\")\n",
    "\n",
    "    def Click(self, pos):\n",
    "        '''Click on the link'''\n",
    "        self.driver.find_elements_by_class_name(\"ais-Hits-item\")[pos].click()\n",
    "        \n",
    "    def GetText(self):\n",
    "        #data = self.driver.page_source\n",
    "        data = requests.get(self.driver.current_url)\n",
    "        soup = BeautifulSoup(data.text, 'html.parser')\n",
    "        h1 = soup.find(\"div\", {\"class\": \"sc-11obzva-1 czRmi\"})\n",
    "        h2=h1.findAll(\"div\", {\"class\": \"sc-11obzva-1 czRmi\"})\n",
    "        titre=h1.findAll('h2')\n",
    "        \n",
    "        #f = open('results.xls', 'a')\n",
    "        #for t in range(len(titre)):\n",
    "        #    if (titre[t].get_text()==\"Profil recherché\") | (titre[t].get_text()==\"Preferred experience\"):\n",
    "        #        n=1\n",
    "        #        for a in h2[t].get_text().splitlines():\n",
    "        #            f.write(a)\n",
    "\n",
    "        #f.write('\\n')\n",
    "        #f.close()\n",
    "        \n",
    "        wb = Workbook()\n",
    "        sheet1 = wb.active\n",
    "        for t in range(len(titre)):\n",
    "            if titre[t].get_text()==\"Profil recherché\":\n",
    "                n=1\n",
    "                for a in h2[t].get_text().splitlines():        \n",
    "                    sheet1.append(n, 0, str(a))\n",
    "                    n+=1\n",
    "        wb.save('example.xls')"
   ]
  },
  {
   "cell_type": "code",
   "execution_count": 23,
   "metadata": {},
   "outputs": [
    {
     "name": "stdout",
     "output_type": "stream",
     "text": [
      "\n",
      "Looking for [chromedriver 80.0.3987.106 mac64] driver in cache \n",
      "File found in cache by path [/Users/alexandreminy/.wdm/drivers/chromedriver/80.0.3987.106/mac64/chromedriver]\n"
     ]
    },
    {
     "ename": "AttributeError",
     "evalue": "'Workbook' object has no attribute 'active'",
     "output_type": "error",
     "traceback": [
      "\u001b[0;31m---------------------------------------------------------------------------\u001b[0m",
      "\u001b[0;31mAttributeError\u001b[0m                            Traceback (most recent call last)",
      "\u001b[0;32m<ipython-input-23-8dadd9773f70>\u001b[0m in \u001b[0;36m<module>\u001b[0;34m\u001b[0m\n\u001b[1;32m      4\u001b[0m     \u001b[0mL\u001b[0m\u001b[0;34m.\u001b[0m\u001b[0mscroll\u001b[0m\u001b[0;34m(\u001b[0m\u001b[0mi\u001b[0m\u001b[0;34m)\u001b[0m\u001b[0;34m\u001b[0m\u001b[0;34m\u001b[0m\u001b[0m\n\u001b[1;32m      5\u001b[0m     \u001b[0mL\u001b[0m\u001b[0;34m.\u001b[0m\u001b[0mClick\u001b[0m\u001b[0;34m(\u001b[0m\u001b[0mi\u001b[0m\u001b[0;34m)\u001b[0m\u001b[0;34m\u001b[0m\u001b[0;34m\u001b[0m\u001b[0m\n\u001b[0;32m----> 6\u001b[0;31m     \u001b[0mL\u001b[0m\u001b[0;34m.\u001b[0m\u001b[0mGetText\u001b[0m\u001b[0;34m(\u001b[0m\u001b[0;34m)\u001b[0m\u001b[0;34m\u001b[0m\u001b[0;34m\u001b[0m\u001b[0m\n\u001b[0m",
      "\u001b[0;32m<ipython-input-22-2e5fee531bf9>\u001b[0m in \u001b[0;36mGetText\u001b[0;34m(self)\u001b[0m\n\u001b[1;32m     41\u001b[0m \u001b[0;34m\u001b[0m\u001b[0m\n\u001b[1;32m     42\u001b[0m         \u001b[0mwb\u001b[0m \u001b[0;34m=\u001b[0m \u001b[0mWorkbook\u001b[0m\u001b[0;34m(\u001b[0m\u001b[0;34m)\u001b[0m\u001b[0;34m\u001b[0m\u001b[0;34m\u001b[0m\u001b[0m\n\u001b[0;32m---> 43\u001b[0;31m         \u001b[0msheet1\u001b[0m \u001b[0;34m=\u001b[0m \u001b[0mwb\u001b[0m\u001b[0;34m.\u001b[0m\u001b[0mactive\u001b[0m\u001b[0;34m\u001b[0m\u001b[0;34m\u001b[0m\u001b[0m\n\u001b[0m\u001b[1;32m     44\u001b[0m         \u001b[0;32mfor\u001b[0m \u001b[0mt\u001b[0m \u001b[0;32min\u001b[0m \u001b[0mrange\u001b[0m\u001b[0;34m(\u001b[0m\u001b[0mlen\u001b[0m\u001b[0;34m(\u001b[0m\u001b[0mtitre\u001b[0m\u001b[0;34m)\u001b[0m\u001b[0;34m)\u001b[0m\u001b[0;34m:\u001b[0m\u001b[0;34m\u001b[0m\u001b[0;34m\u001b[0m\u001b[0m\n\u001b[1;32m     45\u001b[0m             \u001b[0;32mif\u001b[0m \u001b[0mtitre\u001b[0m\u001b[0;34m[\u001b[0m\u001b[0mt\u001b[0m\u001b[0;34m]\u001b[0m\u001b[0;34m.\u001b[0m\u001b[0mget_text\u001b[0m\u001b[0;34m(\u001b[0m\u001b[0;34m)\u001b[0m\u001b[0;34m==\u001b[0m\u001b[0;34m\"Profil recherché\"\u001b[0m\u001b[0;34m:\u001b[0m\u001b[0;34m\u001b[0m\u001b[0;34m\u001b[0m\u001b[0m\n",
      "\u001b[0;31mAttributeError\u001b[0m: 'Workbook' object has no attribute 'active'"
     ]
    }
   ],
   "source": [
    "L = WTTScrapper()\n",
    "for i in range(0,30):\n",
    "    L.MainPage()\n",
    "    L.scroll(i)\n",
    "    L.Click(i)\n",
    "    L.GetText()"
   ]
  },
  {
   "cell_type": "code",
   "execution_count": null,
   "metadata": {},
   "outputs": [],
   "source": [
    "def GetText(url):\n",
    "    \n",
    "    data_fp = requests.get(url)    \n",
    "    soup_fp = BeautifulSoup(data_fp.text, 'html.parser',from_encoding=\"utf-8\")\n",
    "    class_url_offre = soup_fp.find(\"div\", {\"class\":\"sc-1kkiv1h-2 cHZvby\"})\n",
    "    url_offre = class_url_offre.findAll(\"a\", href=True)\n",
    "\n",
    "    data = requests.get(self.driver.current_url)\n",
    "    soup = BeautifulSoup(data.text, 'html.parser',from_encoding=\"utf-8\")\n",
    "    h1 = soup.find(\"div\", {\"class\": \"sc-11obzva-1 czRmi\"})\n",
    "    h2 = h1.findAll(\"div\", {\"class\": \"sc-11obzva-1 czRmi\"})\n",
    "    h3 = h2[2]\n",
    "    f = open('results.txt', 'a')\n",
    "    f.write(h3.get_text())\n",
    "    f.write('\\n')\n",
    "    f.close()"
   ]
  },
  {
   "cell_type": "code",
   "execution_count": null,
   "metadata": {},
   "outputs": [],
   "source": []
  }
 ],
 "metadata": {
  "kernelspec": {
   "display_name": "Python 3",
   "language": "python",
   "name": "python3"
  },
  "language_info": {
   "codemirror_mode": {
    "name": "ipython",
    "version": 3
   },
   "file_extension": ".py",
   "mimetype": "text/x-python",
   "name": "python",
   "nbconvert_exporter": "python",
   "pygments_lexer": "ipython3",
   "version": "3.6.8"
  }
 },
 "nbformat": 4,
 "nbformat_minor": 2
}
