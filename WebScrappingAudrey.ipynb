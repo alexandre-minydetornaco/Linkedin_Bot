{
 "cells": [
  {
   "cell_type": "code",
   "execution_count": 2,
   "metadata": {},
   "outputs": [],
   "source": [
    "import requests\n",
    "import urllib.request\n",
    "import time\n",
    "from bs4 import BeautifulSoup\n",
    "import csv\n"
   ]
  },
  {
   "cell_type": "code",
   "execution_count": 3,
   "metadata": {},
   "outputs": [],
   "source": [
    "url = 'https://www.welcometothejungle.com/fr/companies/sharies/jobs/business-developper_paris'\n",
    "response = requests.get(url)"
   ]
  },
  {
   "cell_type": "code",
   "execution_count": 4,
   "metadata": {},
   "outputs": [
    {
     "data": {
      "text/plain": [
       "<Response [200]>"
      ]
     },
     "execution_count": 4,
     "metadata": {},
     "output_type": "execute_result"
    }
   ],
   "source": [
    "response"
   ]
  },
  {
   "cell_type": "code",
   "execution_count": 5,
   "metadata": {},
   "outputs": [],
   "source": [
    "soup = BeautifulSoup(response.text, 'html.parser')"
   ]
  },
  {
   "cell_type": "code",
   "execution_count": 6,
   "metadata": {},
   "outputs": [],
   "source": [
    "h1 = soup.find(\"div\", {\"class\": \"sc-11obzva-1 czRmi\"})"
   ]
  },
  {
   "cell_type": "code",
   "execution_count": 7,
   "metadata": {},
   "outputs": [],
   "source": [
    "h2=h1.findAll(\"div\", {\"class\": \"sc-11obzva-1 czRmi\"})"
   ]
  },
  {
   "cell_type": "code",
   "execution_count": 8,
   "metadata": {},
   "outputs": [
    {
     "data": {
      "text/plain": [
       "[<h2>À propos</h2>,\n",
       " <h2>Descriptif du poste</h2>,\n",
       " <h2>Profil recherché</h2>,\n",
       " <h2>Déroulement des entretiens</h2>,\n",
       " <h2>Découvrez l'équipe de <a href=\"/fr/companies/sharies\">Sharies</a></h2>]"
      ]
     },
     "execution_count": 8,
     "metadata": {},
     "output_type": "execute_result"
    }
   ],
   "source": [
    "titre=h1.findAll('h2')\n",
    "titre"
   ]
  },
  {
   "cell_type": "code",
   "execution_count": 28,
   "metadata": {},
   "outputs": [
    {
     "name": "stdout",
     "output_type": "stream",
     "text": [
      "Excellente maitrise du pack office (notamment Excel)\n",
      "Rigueur et esprit d’analyse\n",
      "Excellente aisance relationnelle\n",
      "Esprit d’initiative et goût pour le travail en équipe\n",
      "Une expérience dans le domaine de l’investissement immobilier serait un plus\n",
      "Globalement, nous recherchons une tête bien faite :)\n",
      "\n"
     ]
    }
   ],
   "source": [
    "for t in range(len(titre)):\n",
    "    if titre[t].get_text()==\"Profil recherché\":\n",
    "        print(h2[t].get_text())"
   ]
  },
  {
   "cell_type": "code",
   "execution_count": 53,
   "metadata": {},
   "outputs": [],
   "source": [
    "with open(\"testcsv.csv\", \"a\") as f_write:\n",
    "    writer = csv.writer(f_write)\n",
    "    for row in h3:\n",
    "        writer.writerow(row.get_text())"
   ]
  },
  {
   "cell_type": "code",
   "execution_count": 10,
   "metadata": {},
   "outputs": [],
   "source": [
    "import xlwt \n",
    "from xlwt import Workbook "
   ]
  },
  {
   "cell_type": "code",
   "execution_count": 11,
   "metadata": {},
   "outputs": [],
   "source": [
    "wb = Workbook() "
   ]
  },
  {
   "cell_type": "code",
   "execution_count": 12,
   "metadata": {},
   "outputs": [],
   "source": [
    "sheet1 = wb.add_sheet('Sheet 1') "
   ]
  },
  {
   "cell_type": "code",
   "execution_count": 13,
   "metadata": {},
   "outputs": [
    {
     "name": "stdout",
     "output_type": "stream",
     "text": [
      "Excellente maitrise du pack office (notamment Excel)\n",
      "Rigueur et esprit d’analyse\n",
      "Excellente aisance relationnelle\n",
      "Esprit d’initiative et goût pour le travail en équipe\n",
      "Une expérience dans le domaine de l’investissement immobilier serait un plus\n",
      "Globalement, nous recherchons une tête bien faite :)\n"
     ]
    }
   ],
   "source": [
    "for t in range(len(titre)):\n",
    "    if titre[t].get_text()==\"Profil recherché\":\n",
    "        n=1\n",
    "        for a in h2[t].get_text().splitlines():        \n",
    "            sheet1.write(n, 0, str(a))\n",
    "            print(a)\n",
    "            n+=1"
   ]
  },
  {
   "cell_type": "code",
   "execution_count": 16,
   "metadata": {},
   "outputs": [
    {
     "name": "stdout",
     "output_type": "stream",
     "text": [
      "['Excellente maitrise du pack office (notamment Excel)', 'Rigueur et esprit d’analyse', 'Excellente aisance relationnelle', 'Esprit d’initiative et goût pour le travail en équipe', 'Une expérience dans le domaine de l’investissement immobilier serait un plus', 'Globalement, nous recherchons une tête bien faite :)']\n"
     ]
    }
   ],
   "source": [
    "for t in range(len(titre)):\n",
    "    if titre[t].get_text()==\"Profil recherché\":\n",
    "        n=1\n",
    "        print(h2[t].get_text().splitlines())"
   ]
  },
  {
   "cell_type": "code",
   "execution_count": 66,
   "metadata": {},
   "outputs": [],
   "source": [
    "wb.save('zzz3example.xls')"
   ]
  },
  {
   "cell_type": "code",
   "execution_count": 49,
   "metadata": {},
   "outputs": [],
   "source": [
    "sheet1.write(2, 0, \"str(a.get_text())\")"
   ]
  },
  {
   "cell_type": "code",
   "execution_count": 61,
   "metadata": {},
   "outputs": [
    {
     "name": "stdout",
     "output_type": "stream",
     "text": [
      "Excellente maitrise du pack office (notamment Excel)\n",
      "Rigueur et esprit d’analyse\n",
      "Excellente aisance relationnelle\n",
      "Esprit d’initiative et goût pour le travail en équipe\n",
      "Une expérience dans le domaine de l’investissement immobilier serait un plus\n",
      "Globalement, nous recherchons une tête bien faite :)\n"
     ]
    }
   ],
   "source": [
    "for a in aaa:\n",
    "    print(a)"
   ]
  },
  {
   "cell_type": "code",
   "execution_count": null,
   "metadata": {},
   "outputs": [],
   "source": []
  }
 ],
 "metadata": {
  "kernelspec": {
   "display_name": "Python 3",
   "language": "python",
   "name": "python3"
  },
  "language_info": {
   "codemirror_mode": {
    "name": "ipython",
    "version": 3
   },
   "file_extension": ".py",
   "mimetype": "text/x-python",
   "name": "python",
   "nbconvert_exporter": "python",
   "pygments_lexer": "ipython3",
   "version": "3.6.8"
  }
 },
 "nbformat": 4,
 "nbformat_minor": 2
}
