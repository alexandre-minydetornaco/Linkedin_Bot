{
 "cells": [
  {
   "cell_type": "code",
   "execution_count": 1,
   "metadata": {},
   "outputs": [],
   "source": [
    "import requests\n",
    "import urllib.request\n",
    "import time\n",
    "from bs4 import BeautifulSoup\n",
    "import re\n",
    "import subprocess\n",
    "import time\n",
    "\n",
    "import numpy as np\n",
    "from selenium import webdriver\n",
    "from selenium.webdriver.common.keys import Keys\n",
    "from selenium.webdriver.support.ui import WebDriverWait\n",
    "\n",
    "from webdriver_manager.chrome import ChromeDriverManager\n",
    "from bs4 import BeautifulSoup\n",
    "import requests\n",
    "from xlwt import Workbook \n",
    "from openpyxl import load_workbook"
   ]
  },
  {
   "cell_type": "code",
   "execution_count": 12,
   "metadata": {},
   "outputs": [],
   "source": [
    "class WTTScrapper():\n",
    "\n",
    "    def __init__(self):\n",
    "        '''Init bot'''\n",
    "        self.driver = webdriver.Chrome(ChromeDriverManager().install())\n",
    "        self.driver.wait = WebDriverWait(self.driver, 1)\n",
    "\n",
    "    def MainPage(self, url):\n",
    "        '''Go the the first page'''\n",
    "        self.driver.get(url)\n",
    "        \n",
    "    def scroll(self,i):\n",
    "        scroll_delta = int(350)\n",
    "        scroll_delta += 150*i\n",
    "        self.driver.execute_script(\"window.scrollBy(0, \"+str(scroll_delta) + \")\")\n",
    "\n",
    "    def Click(self, pos):\n",
    "        '''Click on the link'''\n",
    "        self.driver.find_elements_by_class_name(\"ais-Hits-item\")[pos].click()\n",
    "        \n",
    "    def GetText(self):\n",
    "        #data = self.driver.page_source\n",
    "        data = requests.get(self.driver.current_url)\n",
    "        soup = BeautifulSoup(data.text, 'html.parser')\n",
    "        h1 = soup.find(\"div\", {\"class\": \"sc-11obzva-1 czRmi\"})\n",
    "        h2=h1.findAll(\"div\", {\"class\": \"sc-11obzva-1 czRmi\"})\n",
    "        titre=h1.findAll('h2')\n",
    "        \n",
    "        f = open('results.txt', 'a')\n",
    "        for t in range(len(titre)):\n",
    "            if (titre[t].get_text()==\"Profil recherché\") | (titre[t].get_text()==\"Preferred experience\"):\n",
    "                n=1\n",
    "                for a in h2[t].get_text().splitlines():\n",
    "                    f.write(a)\n",
    "\n",
    "        f.write('\\n')\n",
    "        f.close()\n",
    "        \n",
    "        #wb = load_workbook(filename = 'example.xlsx')\n",
    "        #sheet1 = wb.get_worksheet_by_name(\"sheet1\")\n",
    "        #for t in range(len(titre)):\n",
    "        #    if titre[t].get_text()==\"Profil recherché\":\n",
    "        #        n=1\n",
    "        #        for a in h2[t].get_text().splitlines():        \n",
    "        #            sheet1.append(n, 0, str(a))\n",
    "        #            n+=1\n",
    "        #wb.save('example.xlsx')\n",
    "        "
   ]
  },
  {
   "cell_type": "code",
   "execution_count": 10,
   "metadata": {},
   "outputs": [
    {
     "name": "stdout",
     "output_type": "stream",
     "text": [
      "\n",
      "Looking for [chromedriver 80.0.3987.106 mac64] driver in cache \n",
      "File found in cache by path [/Users/alexandreminy/.wdm/drivers/chromedriver/80.0.3987.106/mac64/chromedriver]\n"
     ]
    }
   ],
   "source": [
    "for i in range (1,14):\n",
    "    url = f\"https://www.welcometothejungle.com/fr/jobs?page={i}&configure%5Bfilters%5D=website.reference%3Awttj_fr&configure%5BhitsPerPage%5D=30&aroundQuery=France&refinementList%5Boffice.country_code%5D%5B%5D=FR&refinementList%5Bcontract_type_names.fr%5D%5B%5D=CDI&refinementList%5Bcontract_type_names.fr%5D%5B%5D=Stage&query=%22data%20analyst%22&range%5Bexperience_level_minimum%5D%5Bmin%5D=0&range%5Bexperience_level_minimum%5D%5Bmax%5D=1\"\n",
    "    L = WTTScrapper()\n",
    "    for j in range(0,30):\n",
    "        L.MainPage(url)\n",
    "        L.scroll(j)\n",
    "        L.Click(j)\n",
    "        L.GetText()"
   ]
  },
  {
   "cell_type": "code",
   "execution_count": null,
   "metadata": {},
   "outputs": [],
   "source": []
  }
 ],
 "metadata": {
  "kernelspec": {
   "display_name": "Python 3",
   "language": "python",
   "name": "python3"
  },
  "language_info": {
   "codemirror_mode": {
    "name": "ipython",
    "version": 3
   },
   "file_extension": ".py",
   "mimetype": "text/x-python",
   "name": "python",
   "nbconvert_exporter": "python",
   "pygments_lexer": "ipython3",
   "version": "3.6.8"
  }
 },
 "nbformat": 4,
 "nbformat_minor": 2
}
